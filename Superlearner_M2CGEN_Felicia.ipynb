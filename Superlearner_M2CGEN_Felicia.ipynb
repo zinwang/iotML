{
  "nbformat": 4,
  "nbformat_minor": 0,
  "metadata": {
    "colab": {
      "provenance": [],
      "authorship_tag": "ABX9TyNYTZoukbgWb14WiaF2Goxu",
      "include_colab_link": true
    },
    "kernelspec": {
      "name": "python3",
      "display_name": "Python 3"
    },
    "language_info": {
      "name": "python"
    }
  },
  "cells": [
    {
      "cell_type": "markdown",
      "metadata": {
        "id": "view-in-github",
        "colab_type": "text"
      },
      "source": [
        "<a href=\"https://colab.research.google.com/github/zinwang/iotML/blob/main/Superlearner_M2CGEN_Felicia.ipynb\" target=\"_parent\"><img src=\"https://colab.research.google.com/assets/colab-badge.svg\" alt=\"Open In Colab\"/></a>"
      ]
    },
    {
      "cell_type": "code",
      "execution_count": null,
      "metadata": {
        "id": "4g7pzfAkNGCs"
      },
      "outputs": [],
      "source": []
    },
    {
      "cell_type": "code",
      "source": [
        "! git clone https://github.com/zinwang/iotML.git"
      ],
      "metadata": {
        "id": "XB-QhsQWOTV4",
        "colab": {
          "base_uri": "https://localhost:8080/"
        },
        "outputId": "4650df75-fe15-469b-f061-0f5196344c08"
      },
      "execution_count": 3,
      "outputs": [
        {
          "output_type": "stream",
          "name": "stdout",
          "text": [
            "fatal: destination path 'iotML' already exists and is not an empty directory.\n"
          ]
        }
      ]
    },
    {
      "cell_type": "code",
      "source": [
        "! cd iotML"
      ],
      "metadata": {
        "id": "G9HtwJdtSo3U"
      },
      "execution_count": 4,
      "outputs": []
    }
  ]
}